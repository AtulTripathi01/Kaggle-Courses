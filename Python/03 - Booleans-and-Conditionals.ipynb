{
 "cells": [
  {
   "cell_type": "markdown",
   "id": "a091dd30",
   "metadata": {
    "papermill": {
     "duration": 0.026271,
     "end_time": "2021-09-02T09:02:56.805376",
     "exception": false,
     "start_time": "2021-09-02T09:02:56.779105",
     "status": "completed"
    },
    "tags": []
   },
   "source": [
    "**This notebook is an exercise in the [Python](https://www.kaggle.com/learn/python) course.  You can reference the tutorial at [this link](https://www.kaggle.com/colinmorris/booleans-and-conditionals).**\n",
    "\n",
    "---\n"
   ]
  },
  {
   "cell_type": "markdown",
   "id": "9ffd20dd",
   "metadata": {
    "papermill": {
     "duration": 0.021336,
     "end_time": "2021-09-02T09:02:56.847849",
     "exception": false,
     "start_time": "2021-09-02T09:02:56.826513",
     "status": "completed"
    },
    "tags": []
   },
   "source": [
    "In this exercise, you'll put to work what you have learned about booleans and conditionals.\n",
    "\n",
    "To get started, **run the setup code below** before writing your own code (and if you leave this notebook and come back later, don't forget to run the setup code again)."
   ]
  },
  {
   "cell_type": "code",
   "execution_count": 1,
   "id": "2cb01413",
   "metadata": {
    "execution": {
     "iopub.execute_input": "2021-09-02T09:02:56.899320Z",
     "iopub.status.busy": "2021-09-02T09:02:56.898515Z",
     "iopub.status.idle": "2021-09-02T09:02:57.027634Z",
     "shell.execute_reply": "2021-09-02T09:02:57.026825Z",
     "shell.execute_reply.started": "2021-09-02T08:21:22.174662Z"
    },
    "papermill": {
     "duration": 0.159261,
     "end_time": "2021-09-02T09:02:57.027799",
     "exception": false,
     "start_time": "2021-09-02T09:02:56.868538",
     "status": "completed"
    },
    "tags": []
   },
   "outputs": [
    {
     "name": "stdout",
     "output_type": "stream",
     "text": [
      "Setup complete.\n"
     ]
    }
   ],
   "source": [
    "from learntools.core import binder; binder.bind(globals())\n",
    "from learntools.python.ex3 import *\n",
    "print('Setup complete.')"
   ]
  },
  {
   "cell_type": "markdown",
   "id": "a8ec00e0",
   "metadata": {
    "papermill": {
     "duration": 0.020553,
     "end_time": "2021-09-02T09:02:57.070558",
     "exception": false,
     "start_time": "2021-09-02T09:02:57.050005",
     "status": "completed"
    },
    "tags": []
   },
   "source": [
    "# 1.\n",
    "\n",
    "Many programming languages have [`sign`](https://en.wikipedia.org/wiki/Sign_function) available as a built-in function. Python doesn't, but we can define our own!\n",
    "\n",
    "In the cell below, define a function called `sign` which takes a numerical argument and returns -1 if it's negative, 1 if it's positive, and 0 if it's 0."
   ]
  },
  {
   "cell_type": "code",
   "execution_count": 2,
   "id": "e6a38b8b",
   "metadata": {
    "execution": {
     "iopub.execute_input": "2021-09-02T09:02:57.119645Z",
     "iopub.status.busy": "2021-09-02T09:02:57.119043Z",
     "iopub.status.idle": "2021-09-02T09:02:57.124070Z",
     "shell.execute_reply": "2021-09-02T09:02:57.123504Z",
     "shell.execute_reply.started": "2021-09-02T08:25:48.767624Z"
    },
    "papermill": {
     "duration": 0.032802,
     "end_time": "2021-09-02T09:02:57.124202",
     "exception": false,
     "start_time": "2021-09-02T09:02:57.091400",
     "status": "completed"
    },
    "tags": []
   },
   "outputs": [
    {
     "data": {
      "application/javascript": [
       "parent.postMessage({\"jupyterEvent\": \"custom.exercise_interaction\", \"data\": {\"outcomeType\": 1, \"valueTowardsCompletion\": 0.2, \"interactionType\": 1, \"questionType\": 2, \"questionId\": \"1_SignFunctionProblem\", \"learnToolsVersion\": \"0.3.4\", \"failureMessage\": \"\", \"exceptionClass\": \"\", \"trace\": \"\"}}, \"*\")"
      ],
      "text/plain": [
       "<IPython.core.display.Javascript object>"
      ]
     },
     "metadata": {},
     "output_type": "display_data"
    },
    {
     "data": {
      "text/markdown": [
       "<span style=\"color:#33cc33\">Correct</span>"
      ],
      "text/plain": [
       "Correct"
      ]
     },
     "metadata": {},
     "output_type": "display_data"
    }
   ],
   "source": [
    "# Your code goes here. Define a function called 'sign'\n",
    "def sign(value):\n",
    "    if value > 0:\n",
    "        return 1\n",
    "    elif value < 0:\n",
    "        return -1\n",
    "    else:\n",
    "        return 0\n",
    "    \n",
    "# Check your answer\n",
    "q1.check()"
   ]
  },
  {
   "cell_type": "code",
   "execution_count": 3,
   "id": "3417567b",
   "metadata": {
    "execution": {
     "iopub.execute_input": "2021-09-02T09:02:57.173099Z",
     "iopub.status.busy": "2021-09-02T09:02:57.172440Z",
     "iopub.status.idle": "2021-09-02T09:02:57.174386Z",
     "shell.execute_reply": "2021-09-02T09:02:57.174963Z"
    },
    "papermill": {
     "duration": 0.029186,
     "end_time": "2021-09-02T09:02:57.175131",
     "exception": false,
     "start_time": "2021-09-02T09:02:57.145945",
     "status": "completed"
    },
    "tags": []
   },
   "outputs": [],
   "source": [
    "#q1.solution()"
   ]
  },
  {
   "cell_type": "markdown",
   "id": "ca80bb69",
   "metadata": {
    "papermill": {
     "duration": 0.021308,
     "end_time": "2021-09-02T09:02:57.219376",
     "exception": false,
     "start_time": "2021-09-02T09:02:57.198068",
     "status": "completed"
    },
    "tags": []
   },
   "source": [
    "# 2.\n",
    "\n",
    "We've decided to add \"logging\" to our `to_smash` function from the previous exercise."
   ]
  },
  {
   "cell_type": "code",
   "execution_count": 4,
   "id": "a68ccbd9",
   "metadata": {
    "execution": {
     "iopub.execute_input": "2021-09-02T09:02:57.268352Z",
     "iopub.status.busy": "2021-09-02T09:02:57.267689Z",
     "iopub.status.idle": "2021-09-02T09:02:57.275972Z",
     "shell.execute_reply": "2021-09-02T09:02:57.276734Z"
    },
    "papermill": {
     "duration": 0.0359,
     "end_time": "2021-09-02T09:02:57.277020",
     "exception": false,
     "start_time": "2021-09-02T09:02:57.241120",
     "status": "completed"
    },
    "tags": []
   },
   "outputs": [
    {
     "name": "stdout",
     "output_type": "stream",
     "text": [
      "Splitting 91 candies\n"
     ]
    },
    {
     "data": {
      "text/plain": [
       "1"
      ]
     },
     "execution_count": 4,
     "metadata": {},
     "output_type": "execute_result"
    }
   ],
   "source": [
    "def to_smash(total_candies):\n",
    "    \"\"\"Return the number of leftover candies that must be smashed after distributing\n",
    "    the given number of candies evenly between 3 friends.\n",
    "    \n",
    "    >>> to_smash(91)\n",
    "    1\n",
    "    \"\"\"\n",
    "    print(\"Splitting\", total_candies, \"candies\")\n",
    "    return total_candies % 3\n",
    "\n",
    "to_smash(91)"
   ]
  },
  {
   "cell_type": "markdown",
   "id": "de6bcfec",
   "metadata": {
    "papermill": {
     "duration": 0.021645,
     "end_time": "2021-09-02T09:02:57.322140",
     "exception": false,
     "start_time": "2021-09-02T09:02:57.300495",
     "status": "completed"
    },
    "tags": []
   },
   "source": [
    "What happens if we call it with `total_candies = 1`?"
   ]
  },
  {
   "cell_type": "code",
   "execution_count": 5,
   "id": "47d14f7e",
   "metadata": {
    "execution": {
     "iopub.execute_input": "2021-09-02T09:02:57.370350Z",
     "iopub.status.busy": "2021-09-02T09:02:57.369304Z",
     "iopub.status.idle": "2021-09-02T09:02:57.375966Z",
     "shell.execute_reply": "2021-09-02T09:02:57.375482Z",
     "shell.execute_reply.started": "2021-09-02T08:37:24.664727Z"
    },
    "papermill": {
     "duration": 0.031721,
     "end_time": "2021-09-02T09:02:57.376102",
     "exception": false,
     "start_time": "2021-09-02T09:02:57.344381",
     "status": "completed"
    },
    "tags": []
   },
   "outputs": [
    {
     "name": "stdout",
     "output_type": "stream",
     "text": [
      "Splitting 1 candies\n"
     ]
    },
    {
     "data": {
      "text/plain": [
       "1"
      ]
     },
     "execution_count": 5,
     "metadata": {},
     "output_type": "execute_result"
    }
   ],
   "source": [
    "to_smash(1)"
   ]
  },
  {
   "cell_type": "markdown",
   "id": "a407f4be",
   "metadata": {
    "papermill": {
     "duration": 0.022782,
     "end_time": "2021-09-02T09:02:57.421849",
     "exception": false,
     "start_time": "2021-09-02T09:02:57.399067",
     "status": "completed"
    },
    "tags": []
   },
   "source": [
    "That isn't great grammar!\n",
    "\n",
    "Modify the definition in the cell below to correct the grammar of our print statement. (If there's only one candy, we should use the singular \"candy\" instead of the plural \"candies\")"
   ]
  },
  {
   "cell_type": "code",
   "execution_count": 6,
   "id": "d2583d0a",
   "metadata": {
    "execution": {
     "iopub.execute_input": "2021-09-02T09:02:57.470514Z",
     "iopub.status.busy": "2021-09-02T09:02:57.469967Z",
     "iopub.status.idle": "2021-09-02T09:02:57.478066Z",
     "shell.execute_reply": "2021-09-02T09:02:57.477459Z",
     "shell.execute_reply.started": "2021-09-02T08:37:10.918115Z"
    },
    "papermill": {
     "duration": 0.033433,
     "end_time": "2021-09-02T09:02:57.478204",
     "exception": false,
     "start_time": "2021-09-02T09:02:57.444771",
     "status": "completed"
    },
    "tags": []
   },
   "outputs": [
    {
     "name": "stdout",
     "output_type": "stream",
     "text": [
      "Splitting 91 candies\n",
      "Splitting 1 candy\n"
     ]
    },
    {
     "data": {
      "text/plain": [
       "1"
      ]
     },
     "execution_count": 6,
     "metadata": {},
     "output_type": "execute_result"
    }
   ],
   "source": [
    "def to_smash(total_candies):\n",
    "    \"\"\"Return the number of leftover candies that must be smashed after distributing\n",
    "    the given number of candies evenly between 3 friends.\n",
    "    \n",
    "    >>> to_smash(91)\n",
    "    1\n",
    "    \"\"\"\n",
    "    print(\"Splitting\", total_candies, \"candy\" if total_candies == 1 else \"candies\")\n",
    "    return total_candies % 3\n",
    "\n",
    "to_smash(91)\n",
    "to_smash(1)"
   ]
  },
  {
   "cell_type": "markdown",
   "id": "c2b904ee",
   "metadata": {
    "papermill": {
     "duration": 0.023303,
     "end_time": "2021-09-02T09:02:57.525619",
     "exception": false,
     "start_time": "2021-09-02T09:02:57.502316",
     "status": "completed"
    },
    "tags": []
   },
   "source": [
    "To get credit for completing this problem, and to see the official answer, run the code cell below."
   ]
  },
  {
   "cell_type": "code",
   "execution_count": 7,
   "id": "8aec8d05",
   "metadata": {
    "execution": {
     "iopub.execute_input": "2021-09-02T09:02:57.577252Z",
     "iopub.status.busy": "2021-09-02T09:02:57.576617Z",
     "iopub.status.idle": "2021-09-02T09:02:57.583033Z",
     "shell.execute_reply": "2021-09-02T09:02:57.583508Z",
     "shell.execute_reply.started": "2021-09-02T08:35:37.074712Z"
    },
    "papermill": {
     "duration": 0.034651,
     "end_time": "2021-09-02T09:02:57.583686",
     "exception": false,
     "start_time": "2021-09-02T09:02:57.549035",
     "status": "completed"
    },
    "tags": []
   },
   "outputs": [
    {
     "data": {
      "application/javascript": [
       "parent.postMessage({\"jupyterEvent\": \"custom.exercise_interaction\", \"data\": {\"interactionType\": 3, \"questionType\": 4, \"questionId\": \"2_PluralizationProblem\", \"learnToolsVersion\": \"0.3.4\", \"valueTowardsCompletion\": 0.0, \"failureMessage\": \"\", \"exceptionClass\": \"\", \"trace\": \"\", \"outcomeType\": 4}}, \"*\")"
      ],
      "text/plain": [
       "<IPython.core.display.Javascript object>"
      ]
     },
     "metadata": {},
     "output_type": "display_data"
    },
    {
     "data": {
      "text/markdown": [
       "<span style=\"color:#33cc99\">Solution:</span> A straightforward (and totally fine) solution is to replace the original `print` call with:\n",
       "\n",
       "```python\n",
       "if total_candies == 1:\n",
       "    print(\"Splitting 1 candy\")\n",
       "else:\n",
       "    print(\"Splitting\", total_candies, \"candies\")\n",
       "```\n",
       "\n",
       "Here's a slightly more succinct solution using a conditional expression:\n",
       "\n",
       "```python\n",
       "print(\"Splitting\", total_candies, \"candy\" if total_candies == 1 else \"candies\")\n",
       "```"
      ],
      "text/plain": [
       "Solution: A straightforward (and totally fine) solution is to replace the original `print` call with:\n",
       "\n",
       "```python\n",
       "if total_candies == 1:\n",
       "    print(\"Splitting 1 candy\")\n",
       "else:\n",
       "    print(\"Splitting\", total_candies, \"candies\")\n",
       "```\n",
       "\n",
       "Here's a slightly more succinct solution using a conditional expression:\n",
       "\n",
       "```python\n",
       "print(\"Splitting\", total_candies, \"candy\" if total_candies == 1 else \"candies\")\n",
       "```"
      ]
     },
     "metadata": {},
     "output_type": "display_data"
    }
   ],
   "source": [
    "# Check your answer (Run this code cell to receive credit!)\n",
    "q2.solution()"
   ]
  },
  {
   "cell_type": "markdown",
   "id": "cd408427",
   "metadata": {
    "papermill": {
     "duration": 0.024165,
     "end_time": "2021-09-02T09:02:57.632251",
     "exception": false,
     "start_time": "2021-09-02T09:02:57.608086",
     "status": "completed"
    },
    "tags": []
   },
   "source": [
    "# 3. <span title=\"A bit spicy\" style=\"color: darkgreen \">🌶️</span>\n",
    "\n",
    "In the tutorial, we talked about deciding whether we're prepared for the weather. I said that I'm safe from today's weather if...\n",
    "- I have an umbrella...\n",
    "- or if the rain isn't too heavy and I have a hood...\n",
    "- otherwise, I'm still fine unless it's raining *and* it's a workday\n",
    "\n",
    "The function below uses our first attempt at turning this logic into a Python expression. I claimed that there was a bug in that code. Can you find it?\n",
    "\n",
    "To prove that `prepared_for_weather` is buggy, come up with a set of inputs where either:\n",
    "- the function returns `False` (but should have returned `True`), or\n",
    "- the function returned `True` (but should have returned `False`).\n",
    "\n",
    "To get credit for completing this question, your code should return a <font color='#33cc33'>Correct</font> result."
   ]
  },
  {
   "cell_type": "code",
   "execution_count": 8,
   "id": "fd994540",
   "metadata": {
    "execution": {
     "iopub.execute_input": "2021-09-02T09:02:57.688390Z",
     "iopub.status.busy": "2021-09-02T09:02:57.687522Z",
     "iopub.status.idle": "2021-09-02T09:02:57.695207Z",
     "shell.execute_reply": "2021-09-02T09:02:57.694613Z",
     "shell.execute_reply.started": "2021-09-02T08:40:57.934195Z"
    },
    "papermill": {
     "duration": 0.038309,
     "end_time": "2021-09-02T09:02:57.695345",
     "exception": false,
     "start_time": "2021-09-02T09:02:57.657036",
     "status": "completed"
    },
    "tags": []
   },
   "outputs": [
    {
     "name": "stdout",
     "output_type": "stream",
     "text": [
      "False\n"
     ]
    },
    {
     "data": {
      "application/javascript": [
       "parent.postMessage({\"jupyterEvent\": \"custom.exercise_interaction\", \"data\": {\"outcomeType\": 1, \"valueTowardsCompletion\": 0.2, \"interactionType\": 1, \"questionType\": 1, \"questionId\": \"3_WeatherDebug\", \"learnToolsVersion\": \"0.3.4\", \"failureMessage\": \"\", \"exceptionClass\": \"\", \"trace\": \"\"}}, \"*\")"
      ],
      "text/plain": [
       "<IPython.core.display.Javascript object>"
      ]
     },
     "metadata": {},
     "output_type": "display_data"
    },
    {
     "data": {
      "text/markdown": [
       "<span style=\"color:#33cc33\">Correct:</span> \n",
       "\n",
       "One example of a failing test case is:\n",
       "\n",
       "```python\n",
       "have_umbrella = False\n",
       "rain_level = 0.0\n",
       "have_hood = False\n",
       "is_workday = False\n",
       "```\n",
       "\n",
       "Clearly we're prepared for the weather in this case. It's not raining. Not only that, it's not a workday, so we don't even need to leave the house! But our function will return False on these inputs.\n",
       "\n",
       "The key problem is that Python implictly parenthesizes the last part as:\n",
       "\n",
       "```python\n",
       "(not (rain_level > 0)) and is_workday\n",
       "```\n",
       "\n",
       "Whereas what we were trying to express would look more like:\n",
       "\n",
       "```python\n",
       "not (rain_level > 0 and is_workday)\n",
       "```\n"
      ],
      "text/plain": [
       "Correct: \n",
       "\n",
       "One example of a failing test case is:\n",
       "\n",
       "```python\n",
       "have_umbrella = False\n",
       "rain_level = 0.0\n",
       "have_hood = False\n",
       "is_workday = False\n",
       "```\n",
       "\n",
       "Clearly we're prepared for the weather in this case. It's not raining. Not only that, it's not a workday, so we don't even need to leave the house! But our function will return False on these inputs.\n",
       "\n",
       "The key problem is that Python implictly parenthesizes the last part as:\n",
       "\n",
       "```python\n",
       "(not (rain_level > 0)) and is_workday\n",
       "```\n",
       "\n",
       "Whereas what we were trying to express would look more like:\n",
       "\n",
       "```python\n",
       "not (rain_level > 0 and is_workday)\n",
       "```"
      ]
     },
     "metadata": {},
     "output_type": "display_data"
    }
   ],
   "source": [
    "def prepared_for_weather(have_umbrella, rain_level, have_hood, is_workday):\n",
    "    # Don't change this code. Our goal is just to find the bug, not fix it!\n",
    "    return have_umbrella or rain_level < 5 and have_hood or not rain_level > 0 and is_workday\n",
    "\n",
    "# Change the values of these inputs so they represent a case where prepared_for_weather\n",
    "# returns the wrong answer.\n",
    "have_umbrella = False\n",
    "rain_level = 0.0\n",
    "have_hood = False\n",
    "is_workday = False\n",
    "\n",
    "# Check what the function returns given the current values of the variables above\n",
    "actual = prepared_for_weather(have_umbrella, rain_level, have_hood, is_workday)\n",
    "print(actual)\n",
    "\n",
    "# Check your answer\n",
    "q3.check()"
   ]
  },
  {
   "cell_type": "code",
   "execution_count": 9,
   "id": "72e59bbc",
   "metadata": {
    "execution": {
     "iopub.execute_input": "2021-09-02T09:02:57.750422Z",
     "iopub.status.busy": "2021-09-02T09:02:57.749813Z",
     "iopub.status.idle": "2021-09-02T09:02:57.752587Z",
     "shell.execute_reply": "2021-09-02T09:02:57.753144Z"
    },
    "papermill": {
     "duration": 0.03199,
     "end_time": "2021-09-02T09:02:57.753316",
     "exception": false,
     "start_time": "2021-09-02T09:02:57.721326",
     "status": "completed"
    },
    "tags": []
   },
   "outputs": [],
   "source": [
    "#q3.hint()\n",
    "#q3.solution()"
   ]
  },
  {
   "cell_type": "markdown",
   "id": "cccd65e1",
   "metadata": {
    "papermill": {
     "duration": 0.026042,
     "end_time": "2021-09-02T09:02:57.805087",
     "exception": false,
     "start_time": "2021-09-02T09:02:57.779045",
     "status": "completed"
    },
    "tags": []
   },
   "source": [
    "# 4.\n",
    "\n",
    "The function `is_negative` below is implemented correctly - it returns True if the given number is negative and False otherwise.\n",
    "\n",
    "However, it's more verbose than it needs to be. We can actually reduce the number of lines of code in this function by *75%* while keeping the same behaviour. \n",
    "\n",
    "See if you can come up with an equivalent body that uses just **one line** of code, and put it in the function `concise_is_negative`. (HINT: you don't even need Python's ternary syntax)"
   ]
  },
  {
   "cell_type": "code",
   "execution_count": 10,
   "id": "5cea4832",
   "metadata": {
    "execution": {
     "iopub.execute_input": "2021-09-02T09:02:57.859542Z",
     "iopub.status.busy": "2021-09-02T09:02:57.858961Z",
     "iopub.status.idle": "2021-09-02T09:02:57.867453Z",
     "shell.execute_reply": "2021-09-02T09:02:57.867954Z",
     "shell.execute_reply.started": "2021-09-02T08:44:57.816941Z"
    },
    "papermill": {
     "duration": 0.037049,
     "end_time": "2021-09-02T09:02:57.868122",
     "exception": false,
     "start_time": "2021-09-02T09:02:57.831073",
     "status": "completed"
    },
    "tags": []
   },
   "outputs": [
    {
     "data": {
      "application/javascript": [
       "parent.postMessage({\"jupyterEvent\": \"custom.exercise_interaction\", \"data\": {\"outcomeType\": 1, \"valueTowardsCompletion\": 0.2, \"interactionType\": 1, \"questionType\": 2, \"questionId\": \"4_ConciseIsNegative\", \"learnToolsVersion\": \"0.3.4\", \"failureMessage\": \"\", \"exceptionClass\": \"\", \"trace\": \"\"}}, \"*\")"
      ],
      "text/plain": [
       "<IPython.core.display.Javascript object>"
      ]
     },
     "metadata": {},
     "output_type": "display_data"
    },
    {
     "data": {
      "text/markdown": [
       "<span style=\"color:#33cc33\">Correct</span>"
      ],
      "text/plain": [
       "Correct"
      ]
     },
     "metadata": {},
     "output_type": "display_data"
    }
   ],
   "source": [
    "def is_negative(number):\n",
    "    if number < 0:\n",
    "        return True\n",
    "    else:\n",
    "        return False\n",
    "\n",
    "def concise_is_negative(number):\n",
    "    pass # Your code goes here (try to keep it to one line!)\n",
    "    return number< 0\n",
    "\n",
    "# Check your answer\n",
    "q4.check()"
   ]
  },
  {
   "cell_type": "code",
   "execution_count": 11,
   "id": "79e40df4",
   "metadata": {
    "execution": {
     "iopub.execute_input": "2021-09-02T09:02:57.923847Z",
     "iopub.status.busy": "2021-09-02T09:02:57.923209Z",
     "iopub.status.idle": "2021-09-02T09:02:57.926153Z",
     "shell.execute_reply": "2021-09-02T09:02:57.926613Z"
    },
    "papermill": {
     "duration": 0.032258,
     "end_time": "2021-09-02T09:02:57.926780",
     "exception": false,
     "start_time": "2021-09-02T09:02:57.894522",
     "status": "completed"
    },
    "tags": []
   },
   "outputs": [],
   "source": [
    "#q4.hint()\n",
    "#q4.solution()"
   ]
  },
  {
   "cell_type": "markdown",
   "id": "98bf7719",
   "metadata": {
    "papermill": {
     "duration": 0.025496,
     "end_time": "2021-09-02T09:02:57.978495",
     "exception": false,
     "start_time": "2021-09-02T09:02:57.952999",
     "status": "completed"
    },
    "tags": []
   },
   "source": [
    "# 5a.\n",
    "\n",
    "The boolean variables `ketchup`, `mustard` and `onion` represent whether a customer wants a particular topping on their hot dog. We want to implement a number of boolean functions that correspond to some yes-or-no questions about the customer's order. For example:"
   ]
  },
  {
   "cell_type": "code",
   "execution_count": 12,
   "id": "8e53b113",
   "metadata": {
    "execution": {
     "iopub.execute_input": "2021-09-02T09:02:58.035145Z",
     "iopub.status.busy": "2021-09-02T09:02:58.034483Z",
     "iopub.status.idle": "2021-09-02T09:02:58.039124Z",
     "shell.execute_reply": "2021-09-02T09:02:58.038646Z"
    },
    "papermill": {
     "duration": 0.033331,
     "end_time": "2021-09-02T09:02:58.039284",
     "exception": false,
     "start_time": "2021-09-02T09:02:58.005953",
     "status": "completed"
    },
    "tags": []
   },
   "outputs": [],
   "source": [
    "def onionless(ketchup, mustard, onion):\n",
    "    \"\"\"Return whether the customer doesn't want onions.\n",
    "    \"\"\"\n",
    "    \n",
    "    return not onion"
   ]
  },
  {
   "cell_type": "code",
   "execution_count": 13,
   "id": "13bdcb8b",
   "metadata": {
    "execution": {
     "iopub.execute_input": "2021-09-02T09:02:58.097967Z",
     "iopub.status.busy": "2021-09-02T09:02:58.097295Z",
     "iopub.status.idle": "2021-09-02T09:02:58.101232Z",
     "shell.execute_reply": "2021-09-02T09:02:58.101714Z",
     "shell.execute_reply.started": "2021-09-02T08:47:36.357881Z"
    },
    "papermill": {
     "duration": 0.035752,
     "end_time": "2021-09-02T09:02:58.101882",
     "exception": false,
     "start_time": "2021-09-02T09:02:58.066130",
     "status": "completed"
    },
    "tags": []
   },
   "outputs": [
    {
     "data": {
      "application/javascript": [
       "parent.postMessage({\"jupyterEvent\": \"custom.exercise_interaction\", \"data\": {\"outcomeType\": 1, \"valueTowardsCompletion\": 0.2, \"interactionType\": 1, \"questionType\": 2, \"questionId\": \"5.1_AllToppings\", \"learnToolsVersion\": \"0.3.4\", \"failureMessage\": \"\", \"exceptionClass\": \"\", \"trace\": \"\"}}, \"*\")"
      ],
      "text/plain": [
       "<IPython.core.display.Javascript object>"
      ]
     },
     "metadata": {},
     "output_type": "display_data"
    },
    {
     "data": {
      "text/markdown": [
       "<span style=\"color:#33cc33\">Correct</span>"
      ],
      "text/plain": [
       "Correct"
      ]
     },
     "metadata": {},
     "output_type": "display_data"
    }
   ],
   "source": [
    "def wants_all_toppings(ketchup, mustard, onion):\n",
    "    \"\"\"Return whether the customer wants \"the works\" (all 3 toppings)\n",
    "    \"\"\"\n",
    "    return ketchup and mustard and onion\n",
    "\n",
    "# Check your answer\n",
    "q5.a.check()"
   ]
  },
  {
   "cell_type": "code",
   "execution_count": 14,
   "id": "84a04c5b",
   "metadata": {
    "execution": {
     "iopub.execute_input": "2021-09-02T09:02:58.158739Z",
     "iopub.status.busy": "2021-09-02T09:02:58.158055Z",
     "iopub.status.idle": "2021-09-02T09:02:58.161083Z",
     "shell.execute_reply": "2021-09-02T09:02:58.161548Z"
    },
    "papermill": {
     "duration": 0.032861,
     "end_time": "2021-09-02T09:02:58.161715",
     "exception": false,
     "start_time": "2021-09-02T09:02:58.128854",
     "status": "completed"
    },
    "tags": []
   },
   "outputs": [],
   "source": [
    "#q5.a.hint()\n",
    "#q5.a.solution()"
   ]
  },
  {
   "cell_type": "markdown",
   "id": "fd01ea9e",
   "metadata": {
    "papermill": {
     "duration": 0.027012,
     "end_time": "2021-09-02T09:02:58.216422",
     "exception": false,
     "start_time": "2021-09-02T09:02:58.189410",
     "status": "completed"
    },
    "tags": []
   },
   "source": [
    "# 5b.\n",
    "\n",
    "For the next function, fill in the body to match the English description in the docstring. "
   ]
  },
  {
   "cell_type": "code",
   "execution_count": 15,
   "id": "19676ce1",
   "metadata": {
    "execution": {
     "iopub.execute_input": "2021-09-02T09:02:58.279003Z",
     "iopub.status.busy": "2021-09-02T09:02:58.278315Z",
     "iopub.status.idle": "2021-09-02T09:02:58.288516Z",
     "shell.execute_reply": "2021-09-02T09:02:58.289168Z",
     "shell.execute_reply.started": "2021-09-02T08:49:15.971075Z"
    },
    "papermill": {
     "duration": 0.04587,
     "end_time": "2021-09-02T09:02:58.289353",
     "exception": false,
     "start_time": "2021-09-02T09:02:58.243483",
     "status": "completed"
    },
    "tags": []
   },
   "outputs": [
    {
     "data": {
      "application/javascript": [
       "parent.postMessage({\"jupyterEvent\": \"custom.exercise_interaction\", \"data\": {\"outcomeType\": 1, \"valueTowardsCompletion\": 0.2, \"interactionType\": 1, \"questionType\": 2, \"questionId\": \"5.2_PlainDog\", \"learnToolsVersion\": \"0.3.4\", \"failureMessage\": \"\", \"exceptionClass\": \"\", \"trace\": \"\"}}, \"*\")"
      ],
      "text/plain": [
       "<IPython.core.display.Javascript object>"
      ]
     },
     "metadata": {},
     "output_type": "display_data"
    },
    {
     "data": {
      "text/markdown": [
       "<span style=\"color:#33cc33\">Correct:</span> \n",
       "\n",
       "One solution looks like:\n",
       "```python\n",
       "return not ketchup and not mustard and not onion\n",
       "```\n",
       "\n",
       "We can also [\"factor out\" the nots](https://en.wikipedia.org/wiki/De_Morgan%27s_laws) to get:\n",
       "\n",
       "```python\n",
       "return not (ketchup or mustard or onion)\n",
       "```"
      ],
      "text/plain": [
       "Correct: \n",
       "\n",
       "One solution looks like:\n",
       "```python\n",
       "return not ketchup and not mustard and not onion\n",
       "```\n",
       "\n",
       "We can also [\"factor out\" the nots](https://en.wikipedia.org/wiki/De_Morgan%27s_laws) to get:\n",
       "\n",
       "```python\n",
       "return not (ketchup or mustard or onion)\n",
       "```"
      ]
     },
     "metadata": {},
     "output_type": "display_data"
    }
   ],
   "source": [
    "def wants_plain_hotdog(ketchup, mustard, onion):\n",
    "    \"\"\"Return whether the customer wants a plain hot dog with no toppings.\n",
    "    \"\"\"\n",
    "    return not(ketchup or mustard or onion)\n",
    "\n",
    "# Check your answer\n",
    "q5.b.check()"
   ]
  },
  {
   "cell_type": "code",
   "execution_count": 16,
   "id": "4fb77daf",
   "metadata": {
    "execution": {
     "iopub.execute_input": "2021-09-02T09:02:58.369939Z",
     "iopub.status.busy": "2021-09-02T09:02:58.369001Z",
     "iopub.status.idle": "2021-09-02T09:02:58.372098Z",
     "shell.execute_reply": "2021-09-02T09:02:58.371564Z"
    },
    "papermill": {
     "duration": 0.047577,
     "end_time": "2021-09-02T09:02:58.372246",
     "exception": false,
     "start_time": "2021-09-02T09:02:58.324669",
     "status": "completed"
    },
    "tags": []
   },
   "outputs": [],
   "source": [
    "#q5.b.hint()\n",
    "#q5.b.solution()"
   ]
  },
  {
   "cell_type": "markdown",
   "id": "38e79f20",
   "metadata": {
    "papermill": {
     "duration": 0.027411,
     "end_time": "2021-09-02T09:02:58.427858",
     "exception": false,
     "start_time": "2021-09-02T09:02:58.400447",
     "status": "completed"
    },
    "tags": []
   },
   "source": [
    "# 5c.\n",
    "\n",
    "You know what to do: for the next function, fill in the body to match the English description in the docstring."
   ]
  },
  {
   "cell_type": "code",
   "execution_count": 17,
   "id": "9a8cfd01",
   "metadata": {
    "execution": {
     "iopub.execute_input": "2021-09-02T09:02:58.486859Z",
     "iopub.status.busy": "2021-09-02T09:02:58.485903Z",
     "iopub.status.idle": "2021-09-02T09:02:58.493487Z",
     "shell.execute_reply": "2021-09-02T09:02:58.493873Z",
     "shell.execute_reply.started": "2021-09-02T08:50:30.070708Z"
    },
    "papermill": {
     "duration": 0.038602,
     "end_time": "2021-09-02T09:02:58.494074",
     "exception": false,
     "start_time": "2021-09-02T09:02:58.455472",
     "status": "completed"
    },
    "tags": []
   },
   "outputs": [
    {
     "data": {
      "application/javascript": [
       "parent.postMessage({\"jupyterEvent\": \"custom.exercise_interaction\", \"data\": {\"outcomeType\": 1, \"valueTowardsCompletion\": 0.2, \"interactionType\": 1, \"questionType\": 2, \"questionId\": \"5.3_OneSauce\", \"learnToolsVersion\": \"0.3.4\", \"failureMessage\": \"\", \"exceptionClass\": \"\", \"trace\": \"\"}}, \"*\")"
      ],
      "text/plain": [
       "<IPython.core.display.Javascript object>"
      ]
     },
     "metadata": {},
     "output_type": "display_data"
    },
    {
     "data": {
      "text/markdown": [
       "<span style=\"color:#33cc33\">Correct</span>"
      ],
      "text/plain": [
       "Correct"
      ]
     },
     "metadata": {},
     "output_type": "display_data"
    }
   ],
   "source": [
    "def exactly_one_sauce(ketchup, mustard, onion):\n",
    "    \"\"\"Return whether the customer wants either ketchup or mustard, but not both.\n",
    "    (You may be familiar with this operation under the name \"exclusive or\")\n",
    "    \"\"\"\n",
    "    return (ketchup and not mustard) or (not ketchup and mustard)\n",
    "\n",
    "# Check your answer\n",
    "q5.c.check()"
   ]
  },
  {
   "cell_type": "code",
   "execution_count": 18,
   "id": "e9dc617c",
   "metadata": {
    "execution": {
     "iopub.execute_input": "2021-09-02T09:02:58.554799Z",
     "iopub.status.busy": "2021-09-02T09:02:58.553877Z",
     "iopub.status.idle": "2021-09-02T09:02:58.560552Z",
     "shell.execute_reply": "2021-09-02T09:02:58.560971Z",
     "shell.execute_reply.started": "2021-09-02T08:50:54.036113Z"
    },
    "papermill": {
     "duration": 0.038527,
     "end_time": "2021-09-02T09:02:58.561143",
     "exception": false,
     "start_time": "2021-09-02T09:02:58.522616",
     "status": "completed"
    },
    "tags": []
   },
   "outputs": [
    {
     "data": {
      "application/javascript": [
       "parent.postMessage({\"jupyterEvent\": \"custom.exercise_interaction\", \"data\": {\"interactionType\": 3, \"questionType\": 2, \"questionId\": \"5.3_OneSauce\", \"learnToolsVersion\": \"0.3.4\", \"valueTowardsCompletion\": 0.0, \"failureMessage\": \"\", \"exceptionClass\": \"\", \"trace\": \"\", \"outcomeType\": 4}}, \"*\")"
      ],
      "text/plain": [
       "<IPython.core.display.Javascript object>"
      ]
     },
     "metadata": {},
     "output_type": "display_data"
    },
    {
     "data": {
      "text/markdown": [
       "<span style=\"color:#33cc99\">Solution:</span> \n",
       "```python\n",
       "return (ketchup and not mustard) or (mustard and not ketchup)\n",
       "```"
      ],
      "text/plain": [
       "Solution: \n",
       "```python\n",
       "return (ketchup and not mustard) or (mustard and not ketchup)\n",
       "```"
      ]
     },
     "metadata": {},
     "output_type": "display_data"
    }
   ],
   "source": [
    "#q5.c.hint()\n",
    "q5.c.solution()"
   ]
  },
  {
   "cell_type": "markdown",
   "id": "15029041",
   "metadata": {
    "papermill": {
     "duration": 0.029066,
     "end_time": "2021-09-02T09:02:58.619643",
     "exception": false,
     "start_time": "2021-09-02T09:02:58.590577",
     "status": "completed"
    },
    "tags": []
   },
   "source": [
    "# 6. <span title=\"A bit spicy\" style=\"color: darkgreen \">🌶️</span>\n",
    "\n",
    "We’ve seen that calling `bool()` on an integer returns `False` if it’s equal to 0 and `True` otherwise. What happens if we call `int()` on a bool? Try it out in the notebook cell below.\n",
    "\n",
    "Can you take advantage of this to write a succinct function that corresponds to the English sentence \"does the customer want exactly one topping?\"?"
   ]
  },
  {
   "cell_type": "code",
   "execution_count": 19,
   "id": "a77c6a6c",
   "metadata": {
    "execution": {
     "iopub.execute_input": "2021-09-02T09:02:58.683233Z",
     "iopub.status.busy": "2021-09-02T09:02:58.682245Z",
     "iopub.status.idle": "2021-09-02T09:02:58.689767Z",
     "shell.execute_reply": "2021-09-02T09:02:58.690240Z",
     "shell.execute_reply.started": "2021-09-02T08:53:26.118702Z"
    },
    "papermill": {
     "duration": 0.041146,
     "end_time": "2021-09-02T09:02:58.690428",
     "exception": false,
     "start_time": "2021-09-02T09:02:58.649282",
     "status": "completed"
    },
    "tags": []
   },
   "outputs": [
    {
     "data": {
      "application/javascript": [
       "parent.postMessage({\"jupyterEvent\": \"custom.exercise_interaction\", \"data\": {\"outcomeType\": 1, \"valueTowardsCompletion\": 0.2, \"interactionType\": 1, \"questionType\": 2, \"questionId\": \"6_OneTopping\", \"learnToolsVersion\": \"0.3.4\", \"failureMessage\": \"\", \"exceptionClass\": \"\", \"trace\": \"\"}}, \"*\")"
      ],
      "text/plain": [
       "<IPython.core.display.Javascript object>"
      ]
     },
     "metadata": {},
     "output_type": "display_data"
    },
    {
     "data": {
      "text/markdown": [
       "<span style=\"color:#33cc33\">Correct:</span> \n",
       "\n",
       "This condition would be pretty complicated to express using just `and`, `or` and `not`, but using boolean-to-integer conversion gives us this short solution:\n",
       "```python\n",
       "return (int(ketchup) + int(mustard) + int(onion)) == 1\n",
       "```\n",
       "\n",
       "Fun fact: we don't technically need to call `int` on the arguments. Just by doing addition with booleans, Python implicitly does the integer conversion. So we could also write...\n",
       "\n",
       "```python\n",
       "return (ketchup + mustard + onion) == 1\n",
       "```"
      ],
      "text/plain": [
       "Correct: \n",
       "\n",
       "This condition would be pretty complicated to express using just `and`, `or` and `not`, but using boolean-to-integer conversion gives us this short solution:\n",
       "```python\n",
       "return (int(ketchup) + int(mustard) + int(onion)) == 1\n",
       "```\n",
       "\n",
       "Fun fact: we don't technically need to call `int` on the arguments. Just by doing addition with booleans, Python implicitly does the integer conversion. So we could also write...\n",
       "\n",
       "```python\n",
       "return (ketchup + mustard + onion) == 1\n",
       "```"
      ]
     },
     "metadata": {},
     "output_type": "display_data"
    }
   ],
   "source": [
    "def exactly_one_topping(ketchup, mustard, onion):\n",
    "    \"\"\"Return whether the customer wants exactly one of the three available toppings\n",
    "    on their hot dog.\n",
    "    \"\"\"\n",
    "    return (ketchup + mustard + onion) == 1\n",
    "\n",
    "# Check your answer\n",
    "q6.check()"
   ]
  },
  {
   "cell_type": "code",
   "execution_count": 20,
   "id": "848300b6",
   "metadata": {
    "execution": {
     "iopub.execute_input": "2021-09-02T09:02:58.756611Z",
     "iopub.status.busy": "2021-09-02T09:02:58.755715Z",
     "iopub.status.idle": "2021-09-02T09:02:58.758767Z",
     "shell.execute_reply": "2021-09-02T09:02:58.758212Z"
    },
    "papermill": {
     "duration": 0.037343,
     "end_time": "2021-09-02T09:02:58.758900",
     "exception": false,
     "start_time": "2021-09-02T09:02:58.721557",
     "status": "completed"
    },
    "tags": []
   },
   "outputs": [],
   "source": [
    "#q6.hint()\n",
    "#q6.solution()"
   ]
  },
  {
   "cell_type": "markdown",
   "id": "ba4caf35",
   "metadata": {
    "papermill": {
     "duration": 0.030049,
     "end_time": "2021-09-02T09:02:58.819383",
     "exception": false,
     "start_time": "2021-09-02T09:02:58.789334",
     "status": "completed"
    },
    "tags": []
   },
   "source": [
    "# 7. <span title=\"A bit spicy\" style=\"color: darkgreen \">🌶️</span> (Optional)\n",
    "\n",
    "In this problem we'll be working with a simplified version of [blackjack](https://en.wikipedia.org/wiki/Blackjack) (aka twenty-one). In this version there is one player (who you'll control) and a dealer. Play proceeds as follows:\n",
    "\n",
    "- The player is dealt two face-up cards. The dealer is dealt one face-up card.\n",
    "- The player may ask to be dealt another card ('hit') as many times as they wish. If the sum of their cards exceeds 21, they lose the round immediately.\n",
    "- The dealer then deals additional cards to himself until either:\n",
    "    - the sum of the dealer's cards exceeds 21, in which case the player wins the round\n",
    "    - the sum of the dealer's cards is greater than or equal to 17. If the player's total is greater than the dealer's, the player wins. Otherwise, the dealer wins (even in case of a tie).\n",
    "    \n",
    "When calculating the sum of cards, Jack, Queen, and King count for 10. Aces can count as 1 or 11 (when referring to a player's \"total\" above, we mean the largest total that can be made without exceeding 21. So e.g. A+8 = 19, A+8+8 = 17)\n",
    "\n",
    "For this problem, you'll write a function representing the player's decision-making strategy in this game. We've provided a very unintelligent implementation below:"
   ]
  },
  {
   "cell_type": "code",
   "execution_count": 21,
   "id": "493c4384",
   "metadata": {
    "execution": {
     "iopub.execute_input": "2021-09-02T09:02:58.884810Z",
     "iopub.status.busy": "2021-09-02T09:02:58.884207Z",
     "iopub.status.idle": "2021-09-02T09:02:58.886067Z",
     "shell.execute_reply": "2021-09-02T09:02:58.886455Z",
     "shell.execute_reply.started": "2021-09-02T08:57:50.692677Z"
    },
    "papermill": {
     "duration": 0.036612,
     "end_time": "2021-09-02T09:02:58.886621",
     "exception": false,
     "start_time": "2021-09-02T09:02:58.850009",
     "status": "completed"
    },
    "tags": []
   },
   "outputs": [],
   "source": [
    "def should_hit(dealer_total, player_total, player_low_aces, player_high_aces):\n",
    "    \"\"\"Return True if the player should hit (request another card) given the current game\n",
    "    state, or False if the player should stay.\n",
    "    When calculating a hand's total value, we count aces as \"high\" (with value 11) if doing so\n",
    "    doesn't bring the total above 21, otherwise we count them as low (with value 1). \n",
    "    For example, if the player's hand is {A, A, A, 7}, we will count it as 11 + 1 + 1 + 7,\n",
    "    and therefore set player_total=20, player_low_aces=2, player_high_aces=1.\n",
    "    \"\"\"\n",
    "    \n",
    "    return False"
   ]
  },
  {
   "cell_type": "markdown",
   "id": "ad8183ac",
   "metadata": {
    "papermill": {
     "duration": 0.030414,
     "end_time": "2021-09-02T09:02:58.947393",
     "exception": false,
     "start_time": "2021-09-02T09:02:58.916979",
     "status": "completed"
    },
    "tags": []
   },
   "source": [
    "This very conservative agent *always* sticks with the hand of two cards that they're dealt.\n",
    "\n",
    "We'll be simulating games between your player agent and our own dealer agent by calling your function.\n",
    "\n",
    "Try running the function below to see an example of a simulated game:"
   ]
  },
  {
   "cell_type": "code",
   "execution_count": 22,
   "id": "01e5cd8c",
   "metadata": {
    "execution": {
     "iopub.execute_input": "2021-09-02T09:02:59.010850Z",
     "iopub.status.busy": "2021-09-02T09:02:59.010250Z",
     "iopub.status.idle": "2021-09-02T09:02:59.017692Z",
     "shell.execute_reply": "2021-09-02T09:02:59.016730Z",
     "shell.execute_reply.started": "2021-09-02T08:58:01.798673Z"
    },
    "papermill": {
     "duration": 0.040114,
     "end_time": "2021-09-02T09:02:59.017884",
     "exception": false,
     "start_time": "2021-09-02T09:02:58.977770",
     "status": "completed"
    },
    "tags": []
   },
   "outputs": [
    {
     "name": "stdout",
     "output_type": "stream",
     "text": [
      "Player starts with J and 6 (total = 16)\n",
      "Dealer starts with Q\n",
      "\n",
      "__Player's turn__\n",
      "Player stays\n",
      "\n",
      "__Dealer's turn__\n",
      "Dealer hits and receives K. (total = 20)\n",
      "Dealer stands.\n",
      "Dealer wins. 20 >= 16\n"
     ]
    }
   ],
   "source": [
    "q7.simulate_one_game()"
   ]
  },
  {
   "cell_type": "markdown",
   "id": "0198ba49",
   "metadata": {
    "papermill": {
     "duration": 0.03106,
     "end_time": "2021-09-02T09:02:59.079705",
     "exception": false,
     "start_time": "2021-09-02T09:02:59.048645",
     "status": "completed"
    },
    "tags": []
   },
   "source": [
    "The real test of your agent's mettle is their average win rate over many games. Try calling the function below to simulate 50000 games of blackjack (it may take a couple seconds):"
   ]
  },
  {
   "cell_type": "code",
   "execution_count": 23,
   "id": "1d3e6b29",
   "metadata": {
    "execution": {
     "iopub.execute_input": "2021-09-02T09:02:59.145887Z",
     "iopub.status.busy": "2021-09-02T09:02:59.144994Z",
     "iopub.status.idle": "2021-09-02T09:03:00.383862Z",
     "shell.execute_reply": "2021-09-02T09:03:00.384349Z",
     "shell.execute_reply.started": "2021-09-02T08:58:07.935961Z"
    },
    "papermill": {
     "duration": 1.27345,
     "end_time": "2021-09-02T09:03:00.384515",
     "exception": false,
     "start_time": "2021-09-02T09:02:59.111065",
     "status": "completed"
    },
    "tags": []
   },
   "outputs": [
    {
     "name": "stdout",
     "output_type": "stream",
     "text": [
      "Player won 19010 out of 50000 games (win rate = 38.0%)\n"
     ]
    }
   ],
   "source": [
    "q7.simulate(n_games=50000)"
   ]
  },
  {
   "cell_type": "markdown",
   "id": "8250ee52",
   "metadata": {
    "papermill": {
     "duration": 0.030423,
     "end_time": "2021-09-02T09:03:00.445400",
     "exception": false,
     "start_time": "2021-09-02T09:03:00.414977",
     "status": "completed"
    },
    "tags": []
   },
   "source": [
    "Our dumb agent that completely ignores the game state still manages to win shockingly often!\n",
    "\n",
    "Try adding some more smarts to the `should_hit` function and see how it affects the results."
   ]
  },
  {
   "cell_type": "code",
   "execution_count": 24,
   "id": "66ae5b90",
   "metadata": {
    "execution": {
     "iopub.execute_input": "2021-09-02T09:03:00.510546Z",
     "iopub.status.busy": "2021-09-02T09:03:00.509615Z",
     "iopub.status.idle": "2021-09-02T09:03:01.902802Z",
     "shell.execute_reply": "2021-09-02T09:03:01.903239Z",
     "shell.execute_reply.started": "2021-09-02T09:01:34.333506Z"
    },
    "papermill": {
     "duration": 1.427022,
     "end_time": "2021-09-02T09:03:01.903428",
     "exception": false,
     "start_time": "2021-09-02T09:03:00.476406",
     "status": "completed"
    },
    "tags": []
   },
   "outputs": [
    {
     "name": "stdout",
     "output_type": "stream",
     "text": [
      "Player won 21511 out of 50000 games (win rate = 43.0%)\n"
     ]
    }
   ],
   "source": [
    "def should_hit(dealer_total, player_total, player_low_aces, player_high_aces):\n",
    "    \"\"\"Return True if the player should hit (request another card) given the current game\n",
    "    state, or False if the player should stay.\n",
    "    When calculating a hand's total value, we count aces as \"high\" (with value 11) if doing so\n",
    "    doesn't bring the total above 21, otherwise we count them as low (with value 1). \n",
    "    For example, if the player's hand is {A, A, A, 7}, we will count it as 11 + 1 + 1 + 7,\n",
    "    and therefore set player_total=20, player_low_aces=2, player_high_aces=1.\n",
    "    \"\"\"\n",
    "    if player_high_aces:\n",
    "        return player_total <= 17 or (player_total == 18 and 8 <= dealer_total)\n",
    "    else:\n",
    "        if 2 <= dealer_total <= 6:\n",
    "            return player_total <= 11\n",
    "        elif dealer_total == 7:\n",
    "            return player_total <= 16\n",
    "        elif 8 <= dealer_total <= 9:\n",
    "            return player_total <= 15\n",
    "        elif dealer_total == 10:\n",
    "            return player_total <= 14\n",
    "        else:\n",
    "            return player_total <= 17\n",
    "\n",
    "q7.simulate(n_games=50000)"
   ]
  },
  {
   "cell_type": "markdown",
   "id": "f46a5954",
   "metadata": {
    "papermill": {
     "duration": 0.030733,
     "end_time": "2021-09-02T09:03:01.965549",
     "exception": false,
     "start_time": "2021-09-02T09:03:01.934816",
     "status": "completed"
    },
    "tags": []
   },
   "source": [
    "# Keep Going\n",
    "\n",
    "Learn about **[lists and tuples](https://www.kaggle.com/colinmorris/lists)** to handle multiple items of data in a systematic way."
   ]
  },
  {
   "cell_type": "markdown",
   "id": "eaa52785",
   "metadata": {
    "papermill": {
     "duration": 0.030258,
     "end_time": "2021-09-02T09:03:02.026700",
     "exception": false,
     "start_time": "2021-09-02T09:03:01.996442",
     "status": "completed"
    },
    "tags": []
   },
   "source": [
    "---\n",
    "\n",
    "\n",
    "\n",
    "\n",
    "*Have questions or comments? Visit the [Learn Discussion forum](https://www.kaggle.com/learn-forum/161283) to chat with other Learners.*"
   ]
  }
 ],
 "metadata": {
  "kernelspec": {
   "display_name": "Python 3",
   "language": "python",
   "name": "python3"
  },
  "language_info": {
   "codemirror_mode": {
    "name": "ipython",
    "version": 3
   },
   "file_extension": ".py",
   "mimetype": "text/x-python",
   "name": "python",
   "nbconvert_exporter": "python",
   "pygments_lexer": "ipython3",
   "version": "3.7.10"
  },
  "papermill": {
   "default_parameters": {},
   "duration": 13.87696,
   "end_time": "2021-09-02T09:03:03.286589",
   "environment_variables": {},
   "exception": null,
   "input_path": "__notebook__.ipynb",
   "output_path": "__notebook__.ipynb",
   "parameters": {},
   "start_time": "2021-09-02T09:02:49.409629",
   "version": "2.3.3"
  }
 },
 "nbformat": 4,
 "nbformat_minor": 5
}
