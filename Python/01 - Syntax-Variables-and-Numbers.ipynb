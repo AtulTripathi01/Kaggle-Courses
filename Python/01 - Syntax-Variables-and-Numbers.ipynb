{
 "cells": [
  {
   "cell_type": "markdown",
   "id": "d506c542",
   "metadata": {
    "papermill": {
     "duration": 0.029186,
     "end_time": "2021-09-12T17:33:40.373953",
     "exception": false,
     "start_time": "2021-09-12T17:33:40.344767",
     "status": "completed"
    },
    "tags": []
   },
   "source": [
    "**This notebook is an exercise in the [Python](https://www.kaggle.com/learn/python) course.  You can reference the tutorial at [this link](https://www.kaggle.com/colinmorris/hello-python).**\n",
    "\n",
    "---\n"
   ]
  },
  {
   "cell_type": "markdown",
   "id": "bb45dd68",
   "metadata": {
    "papermill": {
     "duration": 0.024088,
     "end_time": "2021-09-12T17:33:40.423992",
     "exception": false,
     "start_time": "2021-09-12T17:33:40.399904",
     "status": "completed"
    },
    "tags": []
   },
   "source": [
    "# Exercises"
   ]
  },
  {
   "cell_type": "markdown",
   "id": "e1ffb5c5",
   "metadata": {
    "papermill": {
     "duration": 0.020653,
     "end_time": "2021-09-12T17:33:40.465734",
     "exception": false,
     "start_time": "2021-09-12T17:33:40.445081",
     "status": "completed"
    },
    "tags": []
   },
   "source": [
    "Welcome to your first set of Python coding problems! \n",
    "\n",
    "If this is your first time using Kaggle Notebooks, welcome! \n",
    "\n",
    "Notebooks are composed of blocks (called \"cells\") of text and code. Each of these is editable, though you'll mainly be editing the code cells to answer some questions.\n",
    "\n",
    "To get started, try running the code cell below (by pressing the ► button, or clicking on the cell and pressing ctrl+enter on your keyboard)."
   ]
  },
  {
   "cell_type": "code",
   "execution_count": 1,
   "id": "4d484257",
   "metadata": {
    "execution": {
     "iopub.execute_input": "2021-09-12T17:33:40.511885Z",
     "iopub.status.busy": "2021-09-12T17:33:40.510727Z",
     "iopub.status.idle": "2021-09-12T17:33:40.523520Z",
     "shell.execute_reply": "2021-09-12T17:33:40.522242Z",
     "shell.execute_reply.started": "2021-09-12T17:32:57.780720Z"
    },
    "papermill": {
     "duration": 0.037041,
     "end_time": "2021-09-12T17:33:40.523824",
     "exception": false,
     "start_time": "2021-09-12T17:33:40.486783",
     "status": "completed"
    },
    "tags": []
   },
   "outputs": [
    {
     "name": "stdout",
     "output_type": "stream",
     "text": [
      "You've successfully run some Python code\n",
      "Congratulations!\n"
     ]
    }
   ],
   "source": [
    "print(\"You've successfully run some Python code\")\n",
    "print(\"Congratulations!\")"
   ]
  },
  {
   "cell_type": "markdown",
   "id": "62418649",
   "metadata": {
    "papermill": {
     "duration": 0.023945,
     "end_time": "2021-09-12T17:33:40.570916",
     "exception": false,
     "start_time": "2021-09-12T17:33:40.546971",
     "status": "completed"
    },
    "tags": []
   },
   "source": [
    "Try adding another line of code in the cell above and re-running it. \n",
    "\n",
    "Now let's get a little fancier:  Add a new code cell by clicking on an existing code cell, hitting the escape key, and then hitting the `a` or `b` key.  The `a` key will add a cell above the current cell, and `b` adds a cell below.\n",
    "\n",
    "Great! Now you know how to use Notebooks.\n",
    "\n",
    "Each hands-on exercise starts by setting up our feedback and code checking mechanism. Run the code cell below to do that. Then you'll be ready to move on to question 0."
   ]
  },
  {
   "cell_type": "code",
   "execution_count": 2,
   "id": "4b7e86a1",
   "metadata": {
    "_kg_hide-input": true,
    "_kg_hide-output": true,
    "execution": {
     "iopub.execute_input": "2021-09-12T17:33:40.627647Z",
     "iopub.status.busy": "2021-09-12T17:33:40.625703Z",
     "iopub.status.idle": "2021-09-12T17:33:40.655058Z",
     "shell.execute_reply": "2021-09-12T17:33:40.655713Z",
     "shell.execute_reply.started": "2021-09-12T17:32:57.803920Z"
    },
    "papermill": {
     "duration": 0.05831,
     "end_time": "2021-09-12T17:33:40.655943",
     "exception": false,
     "start_time": "2021-09-12T17:33:40.597633",
     "status": "completed"
    },
    "tags": []
   },
   "outputs": [
    {
     "name": "stdout",
     "output_type": "stream",
     "text": [
      "Setup complete! You're ready to start question 0.\n"
     ]
    }
   ],
   "source": [
    "from learntools.core import binder; binder.bind(globals())\n",
    "from learntools.python.ex1 import *\n",
    "print(\"Setup complete! You're ready to start question 0.\")"
   ]
  },
  {
   "cell_type": "markdown",
   "id": "2e376ab1",
   "metadata": {
    "papermill": {
     "duration": 0.02105,
     "end_time": "2021-09-12T17:33:40.700507",
     "exception": false,
     "start_time": "2021-09-12T17:33:40.679457",
     "status": "completed"
    },
    "tags": []
   },
   "source": [
    "## 0.\n",
    "\n",
    "*This is a silly question intended as an introduction to the format we use for hands-on exercises throughout all Kaggle courses.*\n",
    "\n",
    "**What is your favorite color? **\n",
    "\n",
    "To complete this question, create a variable called `color` in the cell below with an appropriate value. The function call `q0.check()` (which we've already provided in the cell below) will check your answer."
   ]
  },
  {
   "cell_type": "code",
   "execution_count": 3,
   "id": "c5ef3253",
   "metadata": {
    "execution": {
     "iopub.execute_input": "2021-09-12T17:33:40.746946Z",
     "iopub.status.busy": "2021-09-12T17:33:40.746300Z",
     "iopub.status.idle": "2021-09-12T17:33:40.754567Z",
     "shell.execute_reply": "2021-09-12T17:33:40.755162Z",
     "shell.execute_reply.started": "2021-09-12T17:32:57.840710Z"
    },
    "papermill": {
     "duration": 0.033484,
     "end_time": "2021-09-12T17:33:40.755325",
     "exception": false,
     "start_time": "2021-09-12T17:33:40.721841",
     "status": "completed"
    },
    "tags": []
   },
   "outputs": [
    {
     "data": {
      "application/javascript": [
       "parent.postMessage({\"jupyterEvent\": \"custom.exercise_interaction\", \"data\": {\"outcomeType\": 1, \"valueTowardsCompletion\": 0.25, \"interactionType\": 1, \"questionType\": 2, \"questionId\": \"0_ExerciseFormatTutorial\", \"learnToolsVersion\": \"0.3.4\", \"failureMessage\": \"\", \"exceptionClass\": \"\", \"trace\": \"\"}}, \"*\")"
      ],
      "text/plain": [
       "<IPython.core.display.Javascript object>"
      ]
     },
     "metadata": {},
     "output_type": "display_data"
    },
    {
     "data": {
      "text/markdown": [
       "<span style=\"color:#33cc33\">Correct:</span> What?! You got it right without needing a hint or anything? Drats. Well hey, you should still continue to the next step to get some practice asking for a hint and checking solutions. (Even though you obviously don't need any help here.)"
      ],
      "text/plain": [
       "Correct: What?! You got it right without needing a hint or anything? Drats. Well hey, you should still continue to the next step to get some practice asking for a hint and checking solutions. (Even though you obviously don't need any help here.)"
      ]
     },
     "metadata": {},
     "output_type": "display_data"
    }
   ],
   "source": [
    "# create a variable called color with an appropriate value on the line below\n",
    "# (Remember, strings in Python must be enclosed in 'single' or \"double\" quotes)\n",
    "color = \"blue\"\n",
    "q0.check()"
   ]
  },
  {
   "cell_type": "markdown",
   "id": "78f80cea",
   "metadata": {
    "papermill": {
     "duration": 0.027386,
     "end_time": "2021-09-12T17:33:40.805256",
     "exception": false,
     "start_time": "2021-09-12T17:33:40.777870",
     "status": "completed"
    },
    "tags": []
   },
   "source": [
    "Didn't get the right answer? How do you not even know your own favorite color?!\n",
    "\n",
    "Delete the `#` in the line below to make one of the lines run. You can choose between getting a hint or the full answer by choosing which line to remove the `#` from. \n",
    "\n",
    "Removing the `#` is called uncommenting, because it changes that line from a \"comment\" which Python doesn't run to code, which Python does run."
   ]
  },
  {
   "cell_type": "code",
   "execution_count": 4,
   "id": "61cf63db",
   "metadata": {
    "execution": {
     "iopub.execute_input": "2021-09-12T17:33:40.855329Z",
     "iopub.status.busy": "2021-09-12T17:33:40.854699Z",
     "iopub.status.idle": "2021-09-12T17:33:40.865970Z",
     "shell.execute_reply": "2021-09-12T17:33:40.866551Z",
     "shell.execute_reply.started": "2021-09-12T17:32:57.852064Z"
    },
    "papermill": {
     "duration": 0.038505,
     "end_time": "2021-09-12T17:33:40.866724",
     "exception": false,
     "start_time": "2021-09-12T17:33:40.828219",
     "status": "completed"
    },
    "tags": []
   },
   "outputs": [
    {
     "data": {
      "application/javascript": [
       "parent.postMessage({\"jupyterEvent\": \"custom.exercise_interaction\", \"data\": {\"interactionType\": 2, \"questionType\": 2, \"questionId\": \"0_ExerciseFormatTutorial\", \"learnToolsVersion\": \"0.3.4\", \"valueTowardsCompletion\": 0.0, \"failureMessage\": \"\", \"exceptionClass\": \"\", \"trace\": \"\", \"outcomeType\": 4}}, \"*\")"
      ],
      "text/plain": [
       "<IPython.core.display.Javascript object>"
      ]
     },
     "metadata": {},
     "output_type": "display_data"
    },
    {
     "data": {
      "text/markdown": [
       "<span style=\"color:#3366cc\">Hint:</span> Your favorite color rhymes with *glue*."
      ],
      "text/plain": [
       "Hint: Your favorite color rhymes with *glue*."
      ]
     },
     "metadata": {},
     "output_type": "display_data"
    },
    {
     "data": {
      "application/javascript": [
       "parent.postMessage({\"jupyterEvent\": \"custom.exercise_interaction\", \"data\": {\"interactionType\": 3, \"questionType\": 2, \"questionId\": \"0_ExerciseFormatTutorial\", \"learnToolsVersion\": \"0.3.4\", \"valueTowardsCompletion\": 0.0, \"failureMessage\": \"\", \"exceptionClass\": \"\", \"trace\": \"\", \"outcomeType\": 4}}, \"*\")"
      ],
      "text/plain": [
       "<IPython.core.display.Javascript object>"
      ]
     },
     "metadata": {},
     "output_type": "display_data"
    },
    {
     "data": {
      "text/markdown": [
       "<span style=\"color:#33cc99\">Solution:</span> \n",
       "```python\n",
       "color = \"blue\"\n",
       "```"
      ],
      "text/plain": [
       "Solution: \n",
       "```python\n",
       "color = \"blue\"\n",
       "```"
      ]
     },
     "metadata": {},
     "output_type": "display_data"
    }
   ],
   "source": [
    "q0.hint()\n",
    "q0.solution()"
   ]
  },
  {
   "cell_type": "markdown",
   "id": "6bb7a8f0",
   "metadata": {
    "papermill": {
     "duration": 0.023839,
     "end_time": "2021-09-12T17:33:40.917091",
     "exception": false,
     "start_time": "2021-09-12T17:33:40.893252",
     "status": "completed"
    },
    "tags": []
   },
   "source": [
    "The upcoming questions work the same way. The only thing that will change are the question numbers. For the next question, you'll call `q1.check()`, `q1.hint()`, `q1.solution()`, for question 2, you'll call `q2.check()`, and so on."
   ]
  },
  {
   "cell_type": "markdown",
   "id": "589739e0",
   "metadata": {
    "papermill": {
     "duration": 0.023792,
     "end_time": "2021-09-12T17:33:40.965630",
     "exception": false,
     "start_time": "2021-09-12T17:33:40.941838",
     "status": "completed"
    },
    "tags": []
   },
   "source": [
    "<hr/>\n",
    "\n",
    "## 1.\n",
    "\n",
    "Complete the code below. In case it's helpful, here is the table of available arithmetic operations:\n",
    "\n",
    "\n",
    "\n",
    "| Operator     | Name           | Description                                            |\n",
    "|--------------|----------------|--------------------------------------------------------|\n",
    "| ``a + b``    | Addition       | Sum of ``a`` and ``b``                                 |\n",
    "| ``a - b``    | Subtraction    | Difference of ``a`` and ``b``                          |\n",
    "| ``a * b``    | Multiplication | Product of ``a`` and ``b``                             |\n",
    "| ``a / b``    | True division  | Quotient of ``a`` and ``b``                            |\n",
    "| ``a // b``   | Floor division | Quotient of ``a`` and ``b``, removing fractional parts |\n",
    "| ``a % b``    | Modulus        | Integer remainder after division of ``a`` by ``b``     |\n",
    "| ``a ** b``   | Exponentiation | ``a`` raised to the power of ``b``                     |\n",
    "| ``-a``       | Negation       | The negative of ``a``                                  |\n",
    "\n",
    "<span style=\"display:none\"></span>\n"
   ]
  },
  {
   "cell_type": "code",
   "execution_count": 5,
   "id": "810c5424",
   "metadata": {
    "execution": {
     "iopub.execute_input": "2021-09-12T17:33:41.018782Z",
     "iopub.status.busy": "2021-09-12T17:33:41.018150Z",
     "iopub.status.idle": "2021-09-12T17:33:41.024583Z",
     "shell.execute_reply": "2021-09-12T17:33:41.025198Z",
     "shell.execute_reply.started": "2021-09-12T17:32:57.867888Z"
    },
    "papermill": {
     "duration": 0.034775,
     "end_time": "2021-09-12T17:33:41.025370",
     "exception": false,
     "start_time": "2021-09-12T17:33:40.990595",
     "status": "completed"
    },
    "tags": []
   },
   "outputs": [
    {
     "data": {
      "application/javascript": [
       "parent.postMessage({\"jupyterEvent\": \"custom.exercise_interaction\", \"data\": {\"outcomeType\": 1, \"valueTowardsCompletion\": 0.25, \"interactionType\": 1, \"questionType\": 1, \"questionId\": \"1_CircleArea\", \"learnToolsVersion\": \"0.3.4\", \"failureMessage\": \"\", \"exceptionClass\": \"\", \"trace\": \"\"}}, \"*\")"
      ],
      "text/plain": [
       "<IPython.core.display.Javascript object>"
      ]
     },
     "metadata": {},
     "output_type": "display_data"
    },
    {
     "data": {
      "text/markdown": [
       "<span style=\"color:#33cc33\">Correct</span>"
      ],
      "text/plain": [
       "Correct"
      ]
     },
     "metadata": {},
     "output_type": "display_data"
    }
   ],
   "source": [
    "pi = 3.14159 # approximate\n",
    "diameter = 3\n",
    "\n",
    "# Create a variable called 'radius' equal to half the diameter\n",
    "radius = diameter/2\n",
    "# Create a variable called 'area', using the formula for the area of a circle: pi times the radius squared\n",
    "area = pi*radius*radius\n",
    "q1.check()"
   ]
  },
  {
   "cell_type": "code",
   "execution_count": 6,
   "id": "f42cc629",
   "metadata": {
    "execution": {
     "iopub.execute_input": "2021-09-12T17:33:41.080281Z",
     "iopub.status.busy": "2021-09-12T17:33:41.079650Z",
     "iopub.status.idle": "2021-09-12T17:33:41.082641Z",
     "shell.execute_reply": "2021-09-12T17:33:41.083257Z",
     "shell.execute_reply.started": "2021-09-12T17:32:57.880192Z"
    },
    "papermill": {
     "duration": 0.03247,
     "end_time": "2021-09-12T17:33:41.083426",
     "exception": false,
     "start_time": "2021-09-12T17:33:41.050956",
     "status": "completed"
    },
    "tags": []
   },
   "outputs": [],
   "source": [
    "# Uncomment and run the lines below if you need help.\n",
    "#q1.hint()\n",
    "#q1.solution()"
   ]
  },
  {
   "cell_type": "markdown",
   "id": "8a175ff3",
   "metadata": {
    "papermill": {
     "duration": 0.025545,
     "end_time": "2021-09-12T17:33:41.134925",
     "exception": false,
     "start_time": "2021-09-12T17:33:41.109380",
     "status": "completed"
    },
    "tags": []
   },
   "source": [
    "<hr/>\n",
    "## 2.\n",
    "\n",
    "Add code to the following cell to swap variables `a` and `b` (so that `a` refers to the object previously referred to by `b` and vice versa)."
   ]
  },
  {
   "cell_type": "code",
   "execution_count": 7,
   "id": "f1170aee",
   "metadata": {
    "execution": {
     "iopub.execute_input": "2021-09-12T17:33:41.192898Z",
     "iopub.status.busy": "2021-09-12T17:33:41.191883Z",
     "iopub.status.idle": "2021-09-12T17:33:41.196879Z",
     "shell.execute_reply": "2021-09-12T17:33:41.197414Z",
     "shell.execute_reply.started": "2021-09-12T17:32:57.887645Z"
    },
    "papermill": {
     "duration": 0.03713,
     "end_time": "2021-09-12T17:33:41.197583",
     "exception": false,
     "start_time": "2021-09-12T17:33:41.160453",
     "status": "completed"
    },
    "tags": []
   },
   "outputs": [
    {
     "data": {
      "application/javascript": [
       "parent.postMessage({\"jupyterEvent\": \"custom.exercise_interaction\", \"data\": {\"outcomeType\": 1, \"valueTowardsCompletion\": 0.25, \"interactionType\": 1, \"questionType\": 2, \"questionId\": \"2_VariableSwap\", \"learnToolsVersion\": \"0.3.4\", \"failureMessage\": \"\", \"exceptionClass\": \"\", \"trace\": \"\"}}, \"*\")"
      ],
      "text/plain": [
       "<IPython.core.display.Javascript object>"
      ]
     },
     "metadata": {},
     "output_type": "display_data"
    },
    {
     "data": {
      "text/markdown": [
       "<span style=\"color:#33cc33\">Correct:</span> \n",
       "\n",
       "The most straightforward solution is to use a third variable to temporarily store one of the old values. e.g.:\n",
       "\n",
       "    tmp = a\n",
       "    a = b\n",
       "    b = tmp\n",
       "\n",
       "If you've read lots of Python code, you might have seen the following trick to swap two variables in one line:\n",
       "\n",
       "    a, b = b, a\n",
       "\n",
       "We'll demystify this bit of Python magic later when we talk about *tuples*."
      ],
      "text/plain": [
       "Correct: \n",
       "\n",
       "The most straightforward solution is to use a third variable to temporarily store one of the old values. e.g.:\n",
       "\n",
       "    tmp = a\n",
       "    a = b\n",
       "    b = tmp\n",
       "\n",
       "If you've read lots of Python code, you might have seen the following trick to swap two variables in one line:\n",
       "\n",
       "    a, b = b, a\n",
       "\n",
       "We'll demystify this bit of Python magic later when we talk about *tuples*."
      ]
     },
     "metadata": {},
     "output_type": "display_data"
    }
   ],
   "source": [
    "########### Setup code - don't touch this part ######################\n",
    "# If you're curious, these are examples of lists. We'll talk about \n",
    "# them in depth a few lessons from now. For now, just know that they're\n",
    "# yet another type of Python object, like int or float.\n",
    "a = [1, 2, 3]\n",
    "b = [3, 2, 1]\n",
    "q2.store_original_ids()\n",
    "######################################################################\n",
    "\n",
    "# Your code goes here. Swap the values to which a and b refer.\n",
    "# If you get stuck, you can always uncomment one or both of the lines in\n",
    "# the next cell for a hint, or to peek at the solution.\n",
    "\n",
    "######################################################################\n",
    "a , b = b , a\n",
    "# Check your answer\n",
    "q2.check()"
   ]
  },
  {
   "cell_type": "code",
   "execution_count": 8,
   "id": "96dd5942",
   "metadata": {
    "execution": {
     "iopub.execute_input": "2021-09-12T17:33:41.254290Z",
     "iopub.status.busy": "2021-09-12T17:33:41.253646Z",
     "iopub.status.idle": "2021-09-12T17:33:41.256530Z",
     "shell.execute_reply": "2021-09-12T17:33:41.257036Z",
     "shell.execute_reply.started": "2021-09-12T17:32:57.904383Z"
    },
    "papermill": {
     "duration": 0.03286,
     "end_time": "2021-09-12T17:33:41.257203",
     "exception": false,
     "start_time": "2021-09-12T17:33:41.224343",
     "status": "completed"
    },
    "tags": []
   },
   "outputs": [],
   "source": [
    "#q2.hint()"
   ]
  },
  {
   "cell_type": "code",
   "execution_count": 9,
   "id": "13805466",
   "metadata": {
    "execution": {
     "iopub.execute_input": "2021-09-12T17:33:41.313651Z",
     "iopub.status.busy": "2021-09-12T17:33:41.313037Z",
     "iopub.status.idle": "2021-09-12T17:33:41.315571Z",
     "shell.execute_reply": "2021-09-12T17:33:41.316140Z",
     "shell.execute_reply.started": "2021-09-12T17:32:57.912257Z"
    },
    "papermill": {
     "duration": 0.032429,
     "end_time": "2021-09-12T17:33:41.316308",
     "exception": false,
     "start_time": "2021-09-12T17:33:41.283879",
     "status": "completed"
    },
    "tags": []
   },
   "outputs": [],
   "source": [
    "#q2.solution()"
   ]
  },
  {
   "cell_type": "markdown",
   "id": "35a0896e",
   "metadata": {
    "papermill": {
     "duration": 0.02614,
     "end_time": "2021-09-12T17:33:41.370622",
     "exception": false,
     "start_time": "2021-09-12T17:33:41.344482",
     "status": "completed"
    },
    "tags": []
   },
   "source": [
    "<hr/>\n",
    "## 3.\n",
    "\n",
    "a) Add parentheses to the following expression so that it evaluates to 1."
   ]
  },
  {
   "cell_type": "code",
   "execution_count": 10,
   "id": "fddf7237",
   "metadata": {
    "execution": {
     "iopub.execute_input": "2021-09-12T17:33:41.427609Z",
     "iopub.status.busy": "2021-09-12T17:33:41.426952Z",
     "iopub.status.idle": "2021-09-12T17:33:41.432168Z",
     "shell.execute_reply": "2021-09-12T17:33:41.431670Z",
     "shell.execute_reply.started": "2021-09-12T17:32:57.922961Z"
    },
    "papermill": {
     "duration": 0.034232,
     "end_time": "2021-09-12T17:33:41.432309",
     "exception": false,
     "start_time": "2021-09-12T17:33:41.398077",
     "status": "completed"
    },
    "tags": []
   },
   "outputs": [
    {
     "data": {
      "text/plain": [
       "1"
      ]
     },
     "execution_count": 10,
     "metadata": {},
     "output_type": "execute_result"
    }
   ],
   "source": [
    "(5 - 3) // 2"
   ]
  },
  {
   "cell_type": "code",
   "execution_count": 11,
   "id": "9d40881f",
   "metadata": {
    "execution": {
     "iopub.execute_input": "2021-09-12T17:33:41.490200Z",
     "iopub.status.busy": "2021-09-12T17:33:41.489488Z",
     "iopub.status.idle": "2021-09-12T17:33:41.492513Z",
     "shell.execute_reply": "2021-09-12T17:33:41.491805Z",
     "shell.execute_reply.started": "2021-09-12T17:32:57.935439Z"
    },
    "papermill": {
     "duration": 0.033605,
     "end_time": "2021-09-12T17:33:41.492668",
     "exception": false,
     "start_time": "2021-09-12T17:33:41.459063",
     "status": "completed"
    },
    "tags": []
   },
   "outputs": [],
   "source": [
    "#q3.a.hint()"
   ]
  },
  {
   "cell_type": "code",
   "execution_count": 12,
   "id": "cbe1fdd6",
   "metadata": {
    "execution": {
     "iopub.execute_input": "2021-09-12T17:33:41.551029Z",
     "iopub.status.busy": "2021-09-12T17:33:41.550022Z",
     "iopub.status.idle": "2021-09-12T17:33:41.557238Z",
     "shell.execute_reply": "2021-09-12T17:33:41.557763Z",
     "shell.execute_reply.started": "2021-09-12T17:32:57.945521Z"
    },
    "papermill": {
     "duration": 0.037845,
     "end_time": "2021-09-12T17:33:41.557931",
     "exception": false,
     "start_time": "2021-09-12T17:33:41.520086",
     "status": "completed"
    },
    "tags": []
   },
   "outputs": [
    {
     "data": {
      "application/javascript": [
       "parent.postMessage({\"jupyterEvent\": \"custom.exercise_interaction\", \"data\": {\"interactionType\": 3, \"questionType\": 4, \"questionId\": \"3.1_ArithmeticParensEasy\", \"learnToolsVersion\": \"0.3.4\", \"valueTowardsCompletion\": 0.0, \"failureMessage\": \"\", \"exceptionClass\": \"\", \"trace\": \"\", \"outcomeType\": 4}}, \"*\")"
      ],
      "text/plain": [
       "<IPython.core.display.Javascript object>"
      ]
     },
     "metadata": {},
     "output_type": "display_data"
    },
    {
     "data": {
      "text/markdown": [
       "<span style=\"color:#33cc99\">Solution:</span> \n",
       "```python\n",
       "(5 - 3) // 2\n",
       "```"
      ],
      "text/plain": [
       "Solution: \n",
       "```python\n",
       "(5 - 3) // 2\n",
       "```"
      ]
     },
     "metadata": {},
     "output_type": "display_data"
    }
   ],
   "source": [
    "# Check your answer (Run this code cell to receive credit!)\n",
    "q3.a.solution()"
   ]
  },
  {
   "cell_type": "markdown",
   "id": "23e449de",
   "metadata": {
    "papermill": {
     "duration": 0.027521,
     "end_time": "2021-09-12T17:33:41.613152",
     "exception": false,
     "start_time": "2021-09-12T17:33:41.585631",
     "status": "completed"
    },
    "tags": []
   },
   "source": [
    "<small>Questions, like this one, marked a spicy pepper are a bit harder.</small>\n",
    "\n",
    "b) <span title=\"A bit spicy\" style=\"color: darkgreen \">🌶️</span> Add parentheses to the following expression so that it evaluates to 0\n"
   ]
  },
  {
   "cell_type": "code",
   "execution_count": 13,
   "id": "7cbc3257",
   "metadata": {
    "execution": {
     "iopub.execute_input": "2021-09-12T17:33:41.673773Z",
     "iopub.status.busy": "2021-09-12T17:33:41.673130Z",
     "iopub.status.idle": "2021-09-12T17:33:41.675546Z",
     "shell.execute_reply": "2021-09-12T17:33:41.676042Z",
     "shell.execute_reply.started": "2021-09-12T17:32:57.959606Z"
    },
    "papermill": {
     "duration": 0.035353,
     "end_time": "2021-09-12T17:33:41.676245",
     "exception": false,
     "start_time": "2021-09-12T17:33:41.640892",
     "status": "completed"
    },
    "tags": []
   },
   "outputs": [
    {
     "data": {
      "text/plain": [
       "0"
      ]
     },
     "execution_count": 13,
     "metadata": {},
     "output_type": "execute_result"
    }
   ],
   "source": [
    "(8 - 3) * (2 - (1 + 1))"
   ]
  },
  {
   "cell_type": "code",
   "execution_count": 14,
   "id": "53cb7e63",
   "metadata": {
    "execution": {
     "iopub.execute_input": "2021-09-12T17:33:41.736641Z",
     "iopub.status.busy": "2021-09-12T17:33:41.735916Z",
     "iopub.status.idle": "2021-09-12T17:33:41.737971Z",
     "shell.execute_reply": "2021-09-12T17:33:41.738540Z",
     "shell.execute_reply.started": "2021-09-12T17:32:57.970694Z"
    },
    "papermill": {
     "duration": 0.034434,
     "end_time": "2021-09-12T17:33:41.738706",
     "exception": false,
     "start_time": "2021-09-12T17:33:41.704272",
     "status": "completed"
    },
    "tags": []
   },
   "outputs": [],
   "source": [
    "#q3.b.hint()"
   ]
  },
  {
   "cell_type": "code",
   "execution_count": 15,
   "id": "a73f8424",
   "metadata": {
    "execution": {
     "iopub.execute_input": "2021-09-12T17:33:41.800646Z",
     "iopub.status.busy": "2021-09-12T17:33:41.799968Z",
     "iopub.status.idle": "2021-09-12T17:33:41.803462Z",
     "shell.execute_reply": "2021-09-12T17:33:41.803960Z",
     "shell.execute_reply.started": "2021-09-12T17:32:57.980560Z"
    },
    "papermill": {
     "duration": 0.037295,
     "end_time": "2021-09-12T17:33:41.804134",
     "exception": false,
     "start_time": "2021-09-12T17:33:41.766839",
     "status": "completed"
    },
    "tags": []
   },
   "outputs": [
    {
     "data": {
      "application/javascript": [
       "parent.postMessage({\"jupyterEvent\": \"custom.exercise_interaction\", \"data\": {\"interactionType\": 3, \"questionType\": 4, \"questionId\": \"3.2_ArithmeticParensHard\", \"learnToolsVersion\": \"0.3.4\", \"valueTowardsCompletion\": 0.0, \"failureMessage\": \"\", \"exceptionClass\": \"\", \"trace\": \"\", \"outcomeType\": 4}}, \"*\")"
      ],
      "text/plain": [
       "<IPython.core.display.Javascript object>"
      ]
     },
     "metadata": {},
     "output_type": "display_data"
    },
    {
     "data": {
      "text/markdown": [
       "<span style=\"color:#33cc99\">Solution:</span> `(8 - 3) * (2 - (1 + 1))` is one solution. There may be others."
      ],
      "text/plain": [
       "Solution: `(8 - 3) * (2 - (1 + 1))` is one solution. There may be others."
      ]
     },
     "metadata": {},
     "output_type": "display_data"
    }
   ],
   "source": [
    "# Check your answer (Run this code cell to receive credit!)\n",
    "q3.b.solution()"
   ]
  },
  {
   "cell_type": "markdown",
   "id": "bcb8e9fa",
   "metadata": {
    "papermill": {
     "duration": 0.028832,
     "end_time": "2021-09-12T17:33:41.861985",
     "exception": false,
     "start_time": "2021-09-12T17:33:41.833153",
     "status": "completed"
    },
    "tags": []
   },
   "source": [
    "<hr/>\n",
    "## 4. \n",
    "Alice, Bob and Carol have agreed to pool their Halloween candy and split it evenly among themselves.\n",
    "For the sake of their friendship, any candies left over will be smashed. For example, if they collectively\n",
    "bring home 91 candies, they'll take 30 each and smash 1.\n",
    "\n",
    "Write an arithmetic expression below to calculate how many candies they must smash for a given haul."
   ]
  },
  {
   "cell_type": "code",
   "execution_count": 16,
   "id": "841e41e7",
   "metadata": {
    "execution": {
     "iopub.execute_input": "2021-09-12T17:33:41.924558Z",
     "iopub.status.busy": "2021-09-12T17:33:41.923888Z",
     "iopub.status.idle": "2021-09-12T17:33:41.930137Z",
     "shell.execute_reply": "2021-09-12T17:33:41.930627Z",
     "shell.execute_reply.started": "2021-09-12T17:32:57.997377Z"
    },
    "papermill": {
     "duration": 0.039067,
     "end_time": "2021-09-12T17:33:41.930792",
     "exception": false,
     "start_time": "2021-09-12T17:33:41.891725",
     "status": "completed"
    },
    "tags": []
   },
   "outputs": [
    {
     "data": {
      "application/javascript": [
       "parent.postMessage({\"jupyterEvent\": \"custom.exercise_interaction\", \"data\": {\"outcomeType\": 1, \"valueTowardsCompletion\": 0.25, \"interactionType\": 1, \"questionType\": 1, \"questionId\": \"4_CandySplitting\", \"learnToolsVersion\": \"0.3.4\", \"failureMessage\": \"\", \"exceptionClass\": \"\", \"trace\": \"\"}}, \"*\")"
      ],
      "text/plain": [
       "<IPython.core.display.Javascript object>"
      ]
     },
     "metadata": {},
     "output_type": "display_data"
    },
    {
     "data": {
      "text/markdown": [
       "<span style=\"color:#33cc33\">Correct</span>"
      ],
      "text/plain": [
       "Correct"
      ]
     },
     "metadata": {},
     "output_type": "display_data"
    }
   ],
   "source": [
    "# Variables representing the number of candies collected by alice, bob, and carol\n",
    "alice_candies = 121\n",
    "bob_candies = 77\n",
    "carol_candies = 109\n",
    "\n",
    "# Your code goes here! Replace the right-hand side of this assignment with an expression\n",
    "# involving alice_candies, bob_candies, and carol_candies\n",
    "\n",
    "to_smash = (alice_candies + bob_candies + carol_candies) % 3\n",
    "\n",
    "# Check your answer\n",
    "q4.check()"
   ]
  },
  {
   "cell_type": "code",
   "execution_count": 17,
   "id": "b52da31a",
   "metadata": {
    "execution": {
     "iopub.execute_input": "2021-09-12T17:33:41.994620Z",
     "iopub.status.busy": "2021-09-12T17:33:41.993952Z",
     "iopub.status.idle": "2021-09-12T17:33:41.996503Z",
     "shell.execute_reply": "2021-09-12T17:33:41.996990Z",
     "shell.execute_reply.started": "2021-09-12T17:32:58.008670Z"
    },
    "papermill": {
     "duration": 0.036024,
     "end_time": "2021-09-12T17:33:41.997172",
     "exception": false,
     "start_time": "2021-09-12T17:33:41.961148",
     "status": "completed"
    },
    "tags": []
   },
   "outputs": [],
   "source": [
    "#q4.hint()\n",
    "#q4.solution()"
   ]
  },
  {
   "cell_type": "markdown",
   "id": "006e35de",
   "metadata": {
    "papermill": {
     "duration": 0.029395,
     "end_time": "2021-09-12T17:33:42.056678",
     "exception": false,
     "start_time": "2021-09-12T17:33:42.027283",
     "status": "completed"
    },
    "tags": []
   },
   "source": [
    "# Keep Going\n",
    "\n",
    "Next up, you'll **[learn to write new functions and understand functions others write](https://www.kaggle.com/colinmorris/functions-and-getting-help)**. This will make you at least 10 times more productive as a Python programmer. "
   ]
  },
  {
   "cell_type": "markdown",
   "id": "6016d882",
   "metadata": {
    "papermill": {
     "duration": 0.029268,
     "end_time": "2021-09-12T17:33:42.115659",
     "exception": false,
     "start_time": "2021-09-12T17:33:42.086391",
     "status": "completed"
    },
    "tags": []
   },
   "source": [
    "---\n",
    "\n",
    "\n",
    "\n",
    "\n",
    "*Have questions or comments? Visit the [Learn Discussion forum](https://www.kaggle.com/learn-forum/161283) to chat with other Learners.*"
   ]
  }
 ],
 "metadata": {
  "kernelspec": {
   "display_name": "Python 3",
   "language": "python",
   "name": "python3"
  },
  "language_info": {
   "codemirror_mode": {
    "name": "ipython",
    "version": 3
   },
   "file_extension": ".py",
   "mimetype": "text/x-python",
   "name": "python",
   "nbconvert_exporter": "python",
   "pygments_lexer": "ipython3",
   "version": "3.7.10"
  },
  "papermill": {
   "default_parameters": {},
   "duration": 10.702679,
   "end_time": "2021-09-12T17:33:43.395879",
   "environment_variables": {},
   "exception": null,
   "input_path": "__notebook__.ipynb",
   "output_path": "__notebook__.ipynb",
   "parameters": {},
   "start_time": "2021-09-12T17:33:32.693200",
   "version": "2.3.3"
  }
 },
 "nbformat": 4,
 "nbformat_minor": 5
}
